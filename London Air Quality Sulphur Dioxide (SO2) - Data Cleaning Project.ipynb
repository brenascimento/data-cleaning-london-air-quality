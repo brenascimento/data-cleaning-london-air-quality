{
 "cells": [
  {
   "cell_type": "markdown",
   "id": "b9612c62",
   "metadata": {},
   "source": [
    "## London Air Quality - Sulphur Dioxide (SO2) \n",
    "Sulphur Dioxide(SO2) information from some sites - boroughs:\n",
    "   * Brent - Ikea (BT4)\n",
    "   * Brent - John Keble Primary School (BT6)\n",
    "   * Enfield - Derby Road (EN4) \n",
    "   * Barking and Dagenham - Rush Green (BG1)\n",
    "   * Bexley - Slade Green (BX1)\n",
    "   * Camden - Bloomsbury(BL0)\n",
    "   \n",
    "From 01/01/2020 to 01/12/2021 <br>\n",
    "Dataset Source: https://www.londonair.org.uk/london/asp/dataspecies.asp?species=SO2\n",
    "\n",
    "<strong> This project is a Cleaning Data project, with a little analysis of datas</strong>\n",
    "\n",
    "\n",
    "### What is Sulphur Dioxide (SO2)\n",
    "<p>Sulphur dioxide (SO2) is colourless gas with a strong odour which is produced when a material, or fuel, containing sulphur is burned. In the UK the major contributors are coal and oil burning by industry such as power stations and refineries. Sulphur dioxide pollution episodes can occur where there is widespread domestic use of coal or in the vicinity of coal- or oil-fired power stations. Short-term exposure to high levels of sulphur dioxide may cause coughing, tightening of the chest and narrowing of the airways. Although concentrations in this country present a low direct risk to human health, it can cause pollution in other ways, mainly by contributing to the formation of <a href=\"https://www.londonair.org.uk/LondonAir/guide/WhatIsPM.aspx\">Particles(PM)</a></p>\n",
    "\n",
    "<a href=\"https://www.londonair.org.uk/LondonAir/guide/WhatIsSO2.aspx\">Source</a>"
   ]
  },
  {
   "cell_type": "markdown",
   "id": "771b95e7",
   "metadata": {},
   "source": [
    "imports needed libs:"
   ]
  },
  {
   "cell_type": "code",
   "execution_count": 1,
   "id": "b8b3b506",
   "metadata": {},
   "outputs": [],
   "source": [
    "import pandas as pd\n",
    "import seaborn as sns\n",
    "import matplotlib.pyplot as plt\n",
    "import numpy as np"
   ]
  },
  {
   "cell_type": "markdown",
   "id": "c5ef3b87",
   "metadata": {},
   "source": [
    "Let's cleaning data!"
   ]
  },
  {
   "cell_type": "code",
   "execution_count": 2,
   "id": "b10a3fa9",
   "metadata": {},
   "outputs": [
    {
     "data": {
      "text/html": [
       "<div>\n",
       "<style scoped>\n",
       "    .dataframe tbody tr th:only-of-type {\n",
       "        vertical-align: middle;\n",
       "    }\n",
       "\n",
       "    .dataframe tbody tr th {\n",
       "        vertical-align: top;\n",
       "    }\n",
       "\n",
       "    .dataframe thead th {\n",
       "        text-align: right;\n",
       "    }\n",
       "</style>\n",
       "<table border=\"1\" class=\"dataframe\">\n",
       "  <thead>\n",
       "    <tr style=\"text-align: right;\">\n",
       "      <th></th>\n",
       "      <th>Site</th>\n",
       "      <th>Species</th>\n",
       "      <th>ReadingDateTime</th>\n",
       "      <th>Value</th>\n",
       "      <th>Units</th>\n",
       "      <th>Provisional or Ratified</th>\n",
       "    </tr>\n",
       "  </thead>\n",
       "  <tbody>\n",
       "    <tr>\n",
       "      <th>0</th>\n",
       "      <td>BG1</td>\n",
       "      <td>SO2</td>\n",
       "      <td>01/01/2020 00:00</td>\n",
       "      <td>NaN</td>\n",
       "      <td>ppb</td>\n",
       "      <td>R</td>\n",
       "    </tr>\n",
       "    <tr>\n",
       "      <th>1</th>\n",
       "      <td>BG1</td>\n",
       "      <td>SO2</td>\n",
       "      <td>01/01/2020 01:00</td>\n",
       "      <td>0.4</td>\n",
       "      <td>ppb</td>\n",
       "      <td>R</td>\n",
       "    </tr>\n",
       "    <tr>\n",
       "      <th>2</th>\n",
       "      <td>BG1</td>\n",
       "      <td>SO2</td>\n",
       "      <td>01/01/2020 02:00</td>\n",
       "      <td>0.8</td>\n",
       "      <td>ppb</td>\n",
       "      <td>R</td>\n",
       "    </tr>\n",
       "    <tr>\n",
       "      <th>3</th>\n",
       "      <td>BG1</td>\n",
       "      <td>SO2</td>\n",
       "      <td>01/01/2020 03:00</td>\n",
       "      <td>1.1</td>\n",
       "      <td>ppb</td>\n",
       "      <td>R</td>\n",
       "    </tr>\n",
       "    <tr>\n",
       "      <th>4</th>\n",
       "      <td>BG1</td>\n",
       "      <td>SO2</td>\n",
       "      <td>01/01/2020 04:00</td>\n",
       "      <td>1.1</td>\n",
       "      <td>ppb</td>\n",
       "      <td>R</td>\n",
       "    </tr>\n",
       "  </tbody>\n",
       "</table>\n",
       "</div>"
      ],
      "text/plain": [
       "  Site Species   ReadingDateTime  Value Units Provisional or Ratified\n",
       "0  BG1     SO2  01/01/2020 00:00    NaN   ppb                       R\n",
       "1  BG1     SO2  01/01/2020 01:00    0.4   ppb                       R\n",
       "2  BG1     SO2  01/01/2020 02:00    0.8   ppb                       R\n",
       "3  BG1     SO2  01/01/2020 03:00    1.1   ppb                       R\n",
       "4  BG1     SO2  01/01/2020 04:00    1.1   ppb                       R"
      ]
     },
     "execution_count": 2,
     "metadata": {},
     "output_type": "execute_result"
    }
   ],
   "source": [
    "london_airq = pd.read_csv(\"datasets/LondonAirQuality.csv\")\n",
    "london_airq.head()"
   ]
  },
  {
   "cell_type": "code",
   "execution_count": 3,
   "id": "48cb4bcb",
   "metadata": {},
   "outputs": [
    {
     "data": {
      "text/plain": [
       "(100800, 6)"
      ]
     },
     "execution_count": 3,
     "metadata": {},
     "output_type": "execute_result"
    }
   ],
   "source": [
    "london_airq.shape"
   ]
  },
  {
   "cell_type": "code",
   "execution_count": 4,
   "id": "d6075d96",
   "metadata": {},
   "outputs": [
    {
     "name": "stdout",
     "output_type": "stream",
     "text": [
      "<class 'pandas.core.frame.DataFrame'>\n",
      "RangeIndex: 100800 entries, 0 to 100799\n",
      "Data columns (total 6 columns):\n",
      " #   Column                   Non-Null Count   Dtype  \n",
      "---  ------                   --------------   -----  \n",
      " 0   Site                     100800 non-null  object \n",
      " 1   Species                  100800 non-null  object \n",
      " 2   ReadingDateTime          100800 non-null  object \n",
      " 3   Value                    45955 non-null   float64\n",
      " 4   Units                    100800 non-null  object \n",
      " 5   Provisional or Ratified  100800 non-null  object \n",
      "dtypes: float64(1), object(5)\n",
      "memory usage: 2.7+ MB\n"
     ]
    }
   ],
   "source": [
    "london_airq.info()"
   ]
  },
  {
   "cell_type": "markdown",
   "id": "923bd045",
   "metadata": {},
   "source": [
    "With this info, we can see that:\n",
    "* ReadingDateTime is not on datetime64 dtype\n",
    "* Value column has many of NaN values"
   ]
  },
  {
   "cell_type": "code",
   "execution_count": 5,
   "id": "26a74bac",
   "metadata": {},
   "outputs": [],
   "source": [
    "london_airq[\"ReadingDateTime\"] = pd.to_datetime(london_airq[\"ReadingDateTime\"])"
   ]
  },
  {
   "cell_type": "code",
   "execution_count": 6,
   "id": "f09ad675",
   "metadata": {},
   "outputs": [
    {
     "data": {
      "text/html": [
       "<div>\n",
       "<style scoped>\n",
       "    .dataframe tbody tr th:only-of-type {\n",
       "        vertical-align: middle;\n",
       "    }\n",
       "\n",
       "    .dataframe tbody tr th {\n",
       "        vertical-align: top;\n",
       "    }\n",
       "\n",
       "    .dataframe thead th {\n",
       "        text-align: right;\n",
       "    }\n",
       "</style>\n",
       "<table border=\"1\" class=\"dataframe\">\n",
       "  <thead>\n",
       "    <tr style=\"text-align: right;\">\n",
       "      <th></th>\n",
       "      <th>Site</th>\n",
       "      <th>Species</th>\n",
       "      <th>ReadingDateTime</th>\n",
       "      <th>Value</th>\n",
       "      <th>Units</th>\n",
       "      <th>Provisional or Ratified</th>\n",
       "    </tr>\n",
       "  </thead>\n",
       "  <tbody>\n",
       "    <tr>\n",
       "      <th>0</th>\n",
       "      <td>BG1</td>\n",
       "      <td>SO2</td>\n",
       "      <td>2020-01-01 00:00:00</td>\n",
       "      <td>NaN</td>\n",
       "      <td>ppb</td>\n",
       "      <td>R</td>\n",
       "    </tr>\n",
       "    <tr>\n",
       "      <th>1</th>\n",
       "      <td>BG1</td>\n",
       "      <td>SO2</td>\n",
       "      <td>2020-01-01 01:00:00</td>\n",
       "      <td>0.4</td>\n",
       "      <td>ppb</td>\n",
       "      <td>R</td>\n",
       "    </tr>\n",
       "    <tr>\n",
       "      <th>2</th>\n",
       "      <td>BG1</td>\n",
       "      <td>SO2</td>\n",
       "      <td>2020-01-01 02:00:00</td>\n",
       "      <td>0.8</td>\n",
       "      <td>ppb</td>\n",
       "      <td>R</td>\n",
       "    </tr>\n",
       "    <tr>\n",
       "      <th>3</th>\n",
       "      <td>BG1</td>\n",
       "      <td>SO2</td>\n",
       "      <td>2020-01-01 03:00:00</td>\n",
       "      <td>1.1</td>\n",
       "      <td>ppb</td>\n",
       "      <td>R</td>\n",
       "    </tr>\n",
       "    <tr>\n",
       "      <th>4</th>\n",
       "      <td>BG1</td>\n",
       "      <td>SO2</td>\n",
       "      <td>2020-01-01 04:00:00</td>\n",
       "      <td>1.1</td>\n",
       "      <td>ppb</td>\n",
       "      <td>R</td>\n",
       "    </tr>\n",
       "  </tbody>\n",
       "</table>\n",
       "</div>"
      ],
      "text/plain": [
       "  Site Species     ReadingDateTime  Value Units Provisional or Ratified\n",
       "0  BG1     SO2 2020-01-01 00:00:00    NaN   ppb                       R\n",
       "1  BG1     SO2 2020-01-01 01:00:00    0.4   ppb                       R\n",
       "2  BG1     SO2 2020-01-01 02:00:00    0.8   ppb                       R\n",
       "3  BG1     SO2 2020-01-01 03:00:00    1.1   ppb                       R\n",
       "4  BG1     SO2 2020-01-01 04:00:00    1.1   ppb                       R"
      ]
     },
     "execution_count": 6,
     "metadata": {},
     "output_type": "execute_result"
    }
   ],
   "source": [
    "london_airq.head()"
   ]
  },
  {
   "cell_type": "code",
   "execution_count": 7,
   "id": "1f617572",
   "metadata": {},
   "outputs": [
    {
     "name": "stdout",
     "output_type": "stream",
     "text": [
      "<class 'pandas.core.frame.DataFrame'>\n",
      "RangeIndex: 100800 entries, 0 to 100799\n",
      "Data columns (total 6 columns):\n",
      " #   Column                   Non-Null Count   Dtype         \n",
      "---  ------                   --------------   -----         \n",
      " 0   Site                     100800 non-null  object        \n",
      " 1   Species                  100800 non-null  object        \n",
      " 2   ReadingDateTime          100800 non-null  datetime64[ns]\n",
      " 3   Value                    45955 non-null   float64       \n",
      " 4   Units                    100800 non-null  object        \n",
      " 5   Provisional or Ratified  100800 non-null  object        \n",
      "dtypes: datetime64[ns](1), float64(1), object(4)\n",
      "memory usage: 3.1+ MB\n"
     ]
    }
   ],
   "source": [
    "london_airq.info()"
   ]
  },
  {
   "cell_type": "code",
   "execution_count": 8,
   "id": "b7e09af3",
   "metadata": {},
   "outputs": [
    {
     "data": {
      "text/html": [
       "<div>\n",
       "<style scoped>\n",
       "    .dataframe tbody tr th:only-of-type {\n",
       "        vertical-align: middle;\n",
       "    }\n",
       "\n",
       "    .dataframe tbody tr th {\n",
       "        vertical-align: top;\n",
       "    }\n",
       "\n",
       "    .dataframe thead th {\n",
       "        text-align: right;\n",
       "    }\n",
       "</style>\n",
       "<table border=\"1\" class=\"dataframe\">\n",
       "  <thead>\n",
       "    <tr style=\"text-align: right;\">\n",
       "      <th></th>\n",
       "      <th>Value</th>\n",
       "    </tr>\n",
       "  </thead>\n",
       "  <tbody>\n",
       "    <tr>\n",
       "      <th>count</th>\n",
       "      <td>45955.000000</td>\n",
       "    </tr>\n",
       "    <tr>\n",
       "      <th>mean</th>\n",
       "      <td>0.929272</td>\n",
       "    </tr>\n",
       "    <tr>\n",
       "      <th>std</th>\n",
       "      <td>0.949274</td>\n",
       "    </tr>\n",
       "    <tr>\n",
       "      <th>min</th>\n",
       "      <td>-1.900000</td>\n",
       "    </tr>\n",
       "    <tr>\n",
       "      <th>25%</th>\n",
       "      <td>0.300000</td>\n",
       "    </tr>\n",
       "    <tr>\n",
       "      <th>50%</th>\n",
       "      <td>0.700000</td>\n",
       "    </tr>\n",
       "    <tr>\n",
       "      <th>75%</th>\n",
       "      <td>1.400000</td>\n",
       "    </tr>\n",
       "    <tr>\n",
       "      <th>max</th>\n",
       "      <td>6.100000</td>\n",
       "    </tr>\n",
       "  </tbody>\n",
       "</table>\n",
       "</div>"
      ],
      "text/plain": [
       "              Value\n",
       "count  45955.000000\n",
       "mean       0.929272\n",
       "std        0.949274\n",
       "min       -1.900000\n",
       "25%        0.300000\n",
       "50%        0.700000\n",
       "75%        1.400000\n",
       "max        6.100000"
      ]
     },
     "execution_count": 8,
     "metadata": {},
     "output_type": "execute_result"
    }
   ],
   "source": [
    "london_airq.describe()"
   ]
  },
  {
   "cell_type": "markdown",
   "id": "55f9d0b4",
   "metadata": {},
   "source": [
    "We see why probably values is NaN. But min is -1.9. It means that NaN values is put there because not it was not recorded. <br>\n",
    "We can see which values is NaN:"
   ]
  },
  {
   "cell_type": "code",
   "execution_count": 9,
   "id": "55d51e1a",
   "metadata": {},
   "outputs": [
    {
     "data": {
      "text/html": [
       "<div>\n",
       "<style scoped>\n",
       "    .dataframe tbody tr th:only-of-type {\n",
       "        vertical-align: middle;\n",
       "    }\n",
       "\n",
       "    .dataframe tbody tr th {\n",
       "        vertical-align: top;\n",
       "    }\n",
       "\n",
       "    .dataframe thead th {\n",
       "        text-align: right;\n",
       "    }\n",
       "</style>\n",
       "<table border=\"1\" class=\"dataframe\">\n",
       "  <thead>\n",
       "    <tr style=\"text-align: right;\">\n",
       "      <th></th>\n",
       "      <th>Site</th>\n",
       "      <th>Species</th>\n",
       "      <th>ReadingDateTime</th>\n",
       "      <th>Value</th>\n",
       "      <th>Units</th>\n",
       "      <th>Provisional or Ratified</th>\n",
       "    </tr>\n",
       "  </thead>\n",
       "  <tbody>\n",
       "    <tr>\n",
       "      <th>0</th>\n",
       "      <td>BG1</td>\n",
       "      <td>SO2</td>\n",
       "      <td>2020-01-01 00:00:00</td>\n",
       "      <td>NaN</td>\n",
       "      <td>ppb</td>\n",
       "      <td>R</td>\n",
       "    </tr>\n",
       "    <tr>\n",
       "      <th>483</th>\n",
       "      <td>BG1</td>\n",
       "      <td>SO2</td>\n",
       "      <td>2020-01-21 03:00:00</td>\n",
       "      <td>NaN</td>\n",
       "      <td>ppb</td>\n",
       "      <td>R</td>\n",
       "    </tr>\n",
       "    <tr>\n",
       "      <th>745</th>\n",
       "      <td>BG1</td>\n",
       "      <td>SO2</td>\n",
       "      <td>2020-01-02 01:00:00</td>\n",
       "      <td>NaN</td>\n",
       "      <td>ppb</td>\n",
       "      <td>R</td>\n",
       "    </tr>\n",
       "    <tr>\n",
       "      <th>801</th>\n",
       "      <td>BG1</td>\n",
       "      <td>SO2</td>\n",
       "      <td>2020-03-02 09:00:00</td>\n",
       "      <td>NaN</td>\n",
       "      <td>ppb</td>\n",
       "      <td>R</td>\n",
       "    </tr>\n",
       "    <tr>\n",
       "      <th>1163</th>\n",
       "      <td>BG1</td>\n",
       "      <td>SO2</td>\n",
       "      <td>2020-02-18 11:00:00</td>\n",
       "      <td>NaN</td>\n",
       "      <td>ppb</td>\n",
       "      <td>R</td>\n",
       "    </tr>\n",
       "    <tr>\n",
       "      <th>...</th>\n",
       "      <td>...</td>\n",
       "      <td>...</td>\n",
       "      <td>...</td>\n",
       "      <td>...</td>\n",
       "      <td>...</td>\n",
       "      <td>...</td>\n",
       "    </tr>\n",
       "    <tr>\n",
       "      <th>100795</th>\n",
       "      <td>EN4</td>\n",
       "      <td>SO2</td>\n",
       "      <td>2021-11-30 19:00:00</td>\n",
       "      <td>NaN</td>\n",
       "      <td>ppb</td>\n",
       "      <td>P</td>\n",
       "    </tr>\n",
       "    <tr>\n",
       "      <th>100796</th>\n",
       "      <td>EN4</td>\n",
       "      <td>SO2</td>\n",
       "      <td>2021-11-30 20:00:00</td>\n",
       "      <td>NaN</td>\n",
       "      <td>ppb</td>\n",
       "      <td>P</td>\n",
       "    </tr>\n",
       "    <tr>\n",
       "      <th>100797</th>\n",
       "      <td>EN4</td>\n",
       "      <td>SO2</td>\n",
       "      <td>2021-11-30 21:00:00</td>\n",
       "      <td>NaN</td>\n",
       "      <td>ppb</td>\n",
       "      <td>P</td>\n",
       "    </tr>\n",
       "    <tr>\n",
       "      <th>100798</th>\n",
       "      <td>EN4</td>\n",
       "      <td>SO2</td>\n",
       "      <td>2021-11-30 22:00:00</td>\n",
       "      <td>NaN</td>\n",
       "      <td>ppb</td>\n",
       "      <td>P</td>\n",
       "    </tr>\n",
       "    <tr>\n",
       "      <th>100799</th>\n",
       "      <td>EN4</td>\n",
       "      <td>SO2</td>\n",
       "      <td>2021-11-30 23:00:00</td>\n",
       "      <td>NaN</td>\n",
       "      <td>ppb</td>\n",
       "      <td>P</td>\n",
       "    </tr>\n",
       "  </tbody>\n",
       "</table>\n",
       "<p>54845 rows × 6 columns</p>\n",
       "</div>"
      ],
      "text/plain": [
       "       Site Species     ReadingDateTime  Value Units Provisional or Ratified\n",
       "0       BG1     SO2 2020-01-01 00:00:00    NaN   ppb                       R\n",
       "483     BG1     SO2 2020-01-21 03:00:00    NaN   ppb                       R\n",
       "745     BG1     SO2 2020-01-02 01:00:00    NaN   ppb                       R\n",
       "801     BG1     SO2 2020-03-02 09:00:00    NaN   ppb                       R\n",
       "1163    BG1     SO2 2020-02-18 11:00:00    NaN   ppb                       R\n",
       "...     ...     ...                 ...    ...   ...                     ...\n",
       "100795  EN4     SO2 2021-11-30 19:00:00    NaN   ppb                       P\n",
       "100796  EN4     SO2 2021-11-30 20:00:00    NaN   ppb                       P\n",
       "100797  EN4     SO2 2021-11-30 21:00:00    NaN   ppb                       P\n",
       "100798  EN4     SO2 2021-11-30 22:00:00    NaN   ppb                       P\n",
       "100799  EN4     SO2 2021-11-30 23:00:00    NaN   ppb                       P\n",
       "\n",
       "[54845 rows x 6 columns]"
      ]
     },
     "execution_count": 9,
     "metadata": {},
     "output_type": "execute_result"
    }
   ],
   "source": [
    "london_airq[london_airq.Value.isna()]"
   ]
  },
  {
   "cell_type": "markdown",
   "id": "346c4826",
   "metadata": {},
   "source": [
    "We can see which Sites have been here"
   ]
  },
  {
   "cell_type": "code",
   "execution_count": 10,
   "id": "ddbbf9c4",
   "metadata": {},
   "outputs": [
    {
     "data": {
      "text/plain": [
       "BG1    16800\n",
       "BT4    16800\n",
       "BX1    16800\n",
       "BT6    16800\n",
       "BL0    16800\n",
       "EN4    16800\n",
       "Name: Site, dtype: int64"
      ]
     },
     "execution_count": 10,
     "metadata": {},
     "output_type": "execute_result"
    }
   ],
   "source": [
    "london_airq[\"Site\"].value_counts()"
   ]
  },
  {
   "cell_type": "markdown",
   "id": "5386b177",
   "metadata": {},
   "source": [
    "We can see which Sites that have NaN values to drop it"
   ]
  },
  {
   "cell_type": "code",
   "execution_count": 11,
   "id": "1ae6dd6e",
   "metadata": {},
   "outputs": [
    {
     "data": {
      "text/plain": [
       "BT4    16800\n",
       "BT6    16800\n",
       "EN4    16800\n",
       "BL0     3174\n",
       "BG1     1212\n",
       "BX1       59\n",
       "Name: Site, dtype: int64"
      ]
     },
     "execution_count": 11,
     "metadata": {},
     "output_type": "execute_result"
    }
   ],
   "source": [
    "london_airq.loc[london_airq[\"Value\"].isna(), \"Site\"].value_counts()"
   ]
  },
  {
   "cell_type": "markdown",
   "id": "5e68fd0d",
   "metadata": {},
   "source": [
    "Let's drop these Sites don't have any Value. "
   ]
  },
  {
   "cell_type": "code",
   "execution_count": 12,
   "id": "b5e9d3e0",
   "metadata": {},
   "outputs": [
    {
     "data": {
      "text/plain": [
       "BL0    3174\n",
       "BG1    1212\n",
       "BX1      59\n",
       "Name: Site, dtype: int64"
      ]
     },
     "execution_count": 12,
     "metadata": {},
     "output_type": "execute_result"
    }
   ],
   "source": [
    "london_airq = london_airq[london_airq[\"Site\"].isin([\"BT6\", \"BT4\", \"EN4\"]) == False]\n",
    "london_airq.loc[london_airq[\"Value\"].isna(), \"Site\"].value_counts()"
   ]
  },
  {
   "cell_type": "code",
   "execution_count": 13,
   "id": "6fb1b0d5-70bd-43ec-b788-52c62b4eec77",
   "metadata": {},
   "outputs": [
    {
     "name": "stdout",
     "output_type": "stream",
     "text": [
      "<class 'pandas.core.frame.DataFrame'>\n",
      "Int64Index: 50400 entries, 0 to 83999\n",
      "Data columns (total 6 columns):\n",
      " #   Column                   Non-Null Count  Dtype         \n",
      "---  ------                   --------------  -----         \n",
      " 0   Site                     50400 non-null  object        \n",
      " 1   Species                  50400 non-null  object        \n",
      " 2   ReadingDateTime          50400 non-null  datetime64[ns]\n",
      " 3   Value                    45955 non-null  float64       \n",
      " 4   Units                    50400 non-null  object        \n",
      " 5   Provisional or Ratified  50400 non-null  object        \n",
      "dtypes: datetime64[ns](1), float64(1), object(4)\n",
      "memory usage: 1.9+ MB\n"
     ]
    }
   ],
   "source": [
    "london_airq.info()"
   ]
  },
  {
   "cell_type": "markdown",
   "id": "911cd02f-23e2-49f2-926d-572ad977830e",
   "metadata": {},
   "source": [
    "How has more or less 5% of nan values, we can exclude them because no columns explains that why has NaN values, showing a probability these nan values is generate on errors in collectors SO3 machines in each site/borough"
   ]
  },
  {
   "cell_type": "code",
   "execution_count": 14,
   "id": "405f9f70-5a0c-4619-89df-270fa15512c7",
   "metadata": {},
   "outputs": [],
   "source": [
    "london_airq.dropna(inplace=True)"
   ]
  },
  {
   "cell_type": "code",
   "execution_count": 15,
   "id": "4bc1b903-beb4-4aab-8e63-315633a8588f",
   "metadata": {},
   "outputs": [
    {
     "data": {
      "text/html": [
       "<div>\n",
       "<style scoped>\n",
       "    .dataframe tbody tr th:only-of-type {\n",
       "        vertical-align: middle;\n",
       "    }\n",
       "\n",
       "    .dataframe tbody tr th {\n",
       "        vertical-align: top;\n",
       "    }\n",
       "\n",
       "    .dataframe thead th {\n",
       "        text-align: right;\n",
       "    }\n",
       "</style>\n",
       "<table border=\"1\" class=\"dataframe\">\n",
       "  <thead>\n",
       "    <tr style=\"text-align: right;\">\n",
       "      <th></th>\n",
       "      <th>Value</th>\n",
       "    </tr>\n",
       "  </thead>\n",
       "  <tbody>\n",
       "    <tr>\n",
       "      <th>count</th>\n",
       "      <td>45955.000000</td>\n",
       "    </tr>\n",
       "    <tr>\n",
       "      <th>mean</th>\n",
       "      <td>0.929272</td>\n",
       "    </tr>\n",
       "    <tr>\n",
       "      <th>std</th>\n",
       "      <td>0.949274</td>\n",
       "    </tr>\n",
       "    <tr>\n",
       "      <th>min</th>\n",
       "      <td>-1.900000</td>\n",
       "    </tr>\n",
       "    <tr>\n",
       "      <th>25%</th>\n",
       "      <td>0.300000</td>\n",
       "    </tr>\n",
       "    <tr>\n",
       "      <th>50%</th>\n",
       "      <td>0.700000</td>\n",
       "    </tr>\n",
       "    <tr>\n",
       "      <th>75%</th>\n",
       "      <td>1.400000</td>\n",
       "    </tr>\n",
       "    <tr>\n",
       "      <th>max</th>\n",
       "      <td>6.100000</td>\n",
       "    </tr>\n",
       "  </tbody>\n",
       "</table>\n",
       "</div>"
      ],
      "text/plain": [
       "              Value\n",
       "count  45955.000000\n",
       "mean       0.929272\n",
       "std        0.949274\n",
       "min       -1.900000\n",
       "25%        0.300000\n",
       "50%        0.700000\n",
       "75%        1.400000\n",
       "max        6.100000"
      ]
     },
     "execution_count": 15,
     "metadata": {},
     "output_type": "execute_result"
    }
   ],
   "source": [
    "london_airq.describe()"
   ]
  },
  {
   "cell_type": "markdown",
   "id": "872453ee",
   "metadata": {},
   "source": [
    "Let's see unique values columns"
   ]
  },
  {
   "cell_type": "code",
   "execution_count": 16,
   "id": "c30332fb",
   "metadata": {},
   "outputs": [
    {
     "data": {
      "text/plain": [
       "Site                       [BG1, BX1, BL0]\n",
       "Species                              [SO2]\n",
       "Units                                [ppb]\n",
       "Provisional or Ratified             [R, P]\n",
       "dtype: object"
      ]
     },
     "execution_count": 16,
     "metadata": {},
     "output_type": "execute_result"
    }
   ],
   "source": [
    "london_airq.select_dtypes(include=\"object\").apply(pd.Series.unique)"
   ]
  },
  {
   "cell_type": "markdown",
   "id": "8a6e7a23",
   "metadata": {},
   "source": [
    "Let's plot a line graph to see increased sulphur dioxide(SO2) by Site only to know how data is comported."
   ]
  },
  {
   "cell_type": "code",
   "execution_count": 17,
   "id": "953abde4",
   "metadata": {},
   "outputs": [
    {
     "data": {
      "text/plain": [
       "Text(0.5, 1.0, 'Sulphur Dioxide by Site in 2020')"
      ]
     },
     "execution_count": 17,
     "metadata": {},
     "output_type": "execute_result"
    },
    {
     "data": {
      "image/png": "[encoded data removed]",
      "text/plain": [
       "<Figure size 1008x576 with 1 Axes>"
      ]
     },
     "metadata": {
      "needs_background": "light"
     },
     "output_type": "display_data"
    }
   ],
   "source": [
    "specific_time_df = london_airq[london_airq[\"ReadingDateTime\"].dt.to_period(\"M\") < \"2021-01\"]\n",
    "\n",
    "plt.figure(figsize=(14, 8))\n",
    "sns.lineplot(x=\"ReadingDateTime\", y=\"Value\", hue=\"Site\", data=specific_time_df)\n",
    "plt.title(\"Sulphur Dioxide by Site in 2020\")"
   ]
  },
  {
   "cell_type": "markdown",
   "id": "5141c1e8",
   "metadata": {},
   "source": [
    "Now convert this dataset to csv and save it."
   ]
  },
  {
   "cell_type": "code",
   "execution_count": 18,
   "id": "ea638c2c",
   "metadata": {},
   "outputs": [],
   "source": [
    "london_airq.to_csv(\"datasets/LondonAirQualitySO2Cleaned.csv\")"
   ]
  },
  {
   "cell_type": "markdown",
   "id": "fbda7bd4-d165-4341-802c-fd06d0c9a147",
   "metadata": {},
   "source": [
    "### Resume\n",
    "* <em>Parse date time column `ReadingDateTime` to datetime64[ns] dtype </em>\n",
    "* <em>Drop the sites don't have Value data </em>\n",
    "* <em>Exclude NaN Values to clean dataset </em>\n",
    "* <em>Plotted some line plots to see how data was comported </em>\n",
    "* <em>Exports the dataset cleaned to CSV </em>"
   ]
  },
  {
   "cell_type": "code",
   "execution_count": null,
   "id": "bece9723-d271-4e54-8a7e-5512187ac4b4",
   "metadata": {},
   "outputs": [],
   "source": []
  }
 ],
 "metadata": {
  "kernelspec": {
   "display_name": "Python 3 (ipykernel)",
   "language": "python",
   "name": "python3"
  },
  "language_info": {
   "codemirror_mode": {
    "name": "ipython",
    "version": 3
   },
   "file_extension": ".py",
   "mimetype": "text/x-python",
   "name": "python",
   "nbconvert_exporter": "python",
   "pygments_lexer": "ipython3",
   "version": "3.8.3"
  }
 },
 "nbformat": 4,
 "nbformat_minor": 5
}
